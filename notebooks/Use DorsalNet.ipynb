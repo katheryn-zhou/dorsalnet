{
 "cells": [
  {
   "cell_type": "markdown",
   "id": "contained-stomach",
   "metadata": {},
   "source": [
    "Once you've set up the repos and grabbed the pretrained checkpoints, instantiating DorsalNet is pretty easy."
   ]
  },
  {
   "cell_type": "code",
   "execution_count": 2,
   "id": "e18037a1",
   "metadata": {},
   "outputs": [
    {
     "data": {
      "text/plain": [
       "DorsalNet(\n",
       "  (s1): ShallowNet(\n",
       "    (conv1): Conv3d(3, 64, kernel_size=(5, 7, 7), stride=(1, 2, 2), padding=(2, 3, 3), bias=False)\n",
       "    (bn1): BatchNorm3d(64, eps=1e-05, momentum=0.1, affine=True, track_running_stats=True)\n",
       "    (relu): LeakyReLU(negative_slope=0.1, inplace=True)\n",
       "    (pool_layer): MaxPool3d(kernel_size=[1, 3, 3], stride=[1, 2, 2], padding=[0, 1, 1], dilation=1, ceil_mode=False)\n",
       "    (dropout): Dropout3d(p=0, inplace=False)\n",
       "  )\n",
       "  (res0): ResBlock(\n",
       "    (branch1): Conv3d(64, 32, kernel_size=(1, 1, 1), stride=(1, 1, 1), bias=False)\n",
       "    (branch1_bn): BatchNorm3d(32, eps=1e-05, momentum=0.1, affine=True, track_running_stats=True)\n",
       "    (branch2): BottleneckTransform(\n",
       "      (a): Conv3d(64, 8, kernel_size=(1, 1, 1), stride=(1, 1, 1), bias=False)\n",
       "      (a_bn): BatchNorm3d(8, eps=1e-05, momentum=0.1, affine=True, track_running_stats=True)\n",
       "      (a_relu): ReLU(inplace=True)\n",
       "      (b): Conv3d(8, 8, kernel_size=(1, 3, 3), stride=(1, 1, 1), padding=(0, 1, 1), bias=False)\n",
       "      (b_bn): BatchNorm3d(8, eps=1e-05, momentum=0.1, affine=True, track_running_stats=True)\n",
       "      (b_relu): ReLU(inplace=True)\n",
       "      (c): Conv3d(8, 32, kernel_size=(1, 1, 1), stride=(1, 1, 1), bias=False)\n",
       "      (c_bn): BatchNorm3d(32, eps=1e-05, momentum=0.1, affine=True, track_running_stats=True)\n",
       "    )\n",
       "    (relu): ReLU()\n",
       "  )\n",
       "  (res1): ResBlock(\n",
       "    (branch2): BottleneckTransform(\n",
       "      (a): Conv3d(32, 8, kernel_size=(3, 1, 1), stride=(1, 1, 1), padding=(1, 0, 0), bias=False)\n",
       "      (a_bn): BatchNorm3d(8, eps=1e-05, momentum=0.1, affine=True, track_running_stats=True)\n",
       "      (a_relu): ReLU(inplace=True)\n",
       "      (b): Conv3d(8, 8, kernel_size=(1, 3, 3), stride=(1, 1, 1), padding=(0, 1, 1), bias=False)\n",
       "      (b_bn): BatchNorm3d(8, eps=1e-05, momentum=0.1, affine=True, track_running_stats=True)\n",
       "      (b_relu): ReLU(inplace=True)\n",
       "      (c): Conv3d(8, 32, kernel_size=(1, 1, 1), stride=(1, 1, 1), bias=False)\n",
       "      (c_bn): BatchNorm3d(32, eps=1e-05, momentum=0.1, affine=True, track_running_stats=True)\n",
       "    )\n",
       "    (relu): ReLU()\n",
       "  )\n",
       "  (res2): ResBlock(\n",
       "    (branch2): BottleneckTransform(\n",
       "      (a): Conv3d(32, 8, kernel_size=(1, 1, 1), stride=(1, 1, 1), bias=False)\n",
       "      (a_bn): BatchNorm3d(8, eps=1e-05, momentum=0.1, affine=True, track_running_stats=True)\n",
       "      (a_relu): ReLU(inplace=True)\n",
       "      (b): Conv3d(8, 8, kernel_size=(1, 3, 3), stride=(1, 1, 1), padding=(0, 1, 1), bias=False)\n",
       "      (b_bn): BatchNorm3d(8, eps=1e-05, momentum=0.1, affine=True, track_running_stats=True)\n",
       "      (b_relu): ReLU(inplace=True)\n",
       "      (c): Conv3d(8, 32, kernel_size=(1, 1, 1), stride=(1, 1, 1), bias=False)\n",
       "      (c_bn): BatchNorm3d(32, eps=1e-05, momentum=0.1, affine=True, track_running_stats=True)\n",
       "    )\n",
       "    (relu): ReLU()\n",
       "  )\n",
       "  (res3): ResBlock(\n",
       "    (branch2): BottleneckTransform(\n",
       "      (a): Conv3d(32, 8, kernel_size=(3, 1, 1), stride=(1, 1, 1), padding=(1, 0, 0), bias=False)\n",
       "      (a_bn): BatchNorm3d(8, eps=1e-05, momentum=0.1, affine=True, track_running_stats=True)\n",
       "      (a_relu): ReLU(inplace=True)\n",
       "      (b): Conv3d(8, 8, kernel_size=(1, 3, 3), stride=(1, 1, 1), padding=(0, 1, 1), bias=False)\n",
       "      (b_bn): BatchNorm3d(8, eps=1e-05, momentum=0.1, affine=True, track_running_stats=True)\n",
       "      (b_relu): ReLU(inplace=True)\n",
       "      (c): Conv3d(8, 32, kernel_size=(1, 1, 1), stride=(1, 1, 1), bias=False)\n",
       "      (c_bn): BatchNorm3d(32, eps=1e-05, momentum=0.1, affine=True, track_running_stats=True)\n",
       "    )\n",
       "    (relu): ReLU()\n",
       "  )\n",
       "  (dropout): Dropout3d(p=0.1, inplace=False)\n",
       "  (concat): Identity()\n",
       "  (conv1): Conv3d(3, 64, kernel_size=(5, 7, 7), stride=(1, 2, 2), padding=(2, 3, 3), bias=False)\n",
       ")"
      ]
     },
     "execution_count": 2,
     "metadata": {},
     "output_type": "execute_result"
    }
   ],
   "source": [
    "import numpy as np\n",
    "import pandas as pd\n",
    "import torch\n",
    "import os\n",
    "from pathlib import Path\n",
    "import sys\n",
    "sys.path.append('../')\n",
    "# from paths import *\n",
    "from python_dict_wrapper import wrap\n",
    "\n",
    "CHECKPOINTS = Path(os.getcwd()).parent / \"checkpoints\"\n",
    "\n",
    "features = 'airsim_04'\n",
    "\n",
    "args = wrap({'features': features,\n",
    "             'ckpt_root': CHECKPOINTS,\n",
    "             'slowfast_root': None,\n",
    "             'ntau': 32,\n",
    "             'nt': 1,\n",
    "             'subsample_layers': False})\n",
    "\n",
    "from dorsalnet.models import get_feature_model\n",
    "\n",
    "model, hooks, data = get_feature_model(args)\n",
    "model"
   ]
  },
  {
   "cell_type": "code",
   "execution_count": 3,
   "id": "continental-edgar",
   "metadata": {},
   "outputs": [],
   "source": [
    "# import numpy as np\n",
    "# import pandas as pd\n",
    "# import torch\n",
    "\n",
    "# import sys\n",
    "# sys.path.append('../')\n",
    "# from paths import *\n",
    "# from python_dict_wrapper import wrap\n",
    "\n",
    "\n",
    "# features = 'airsim_04'\n",
    "\n",
    "# args = wrap({'features': features,\n",
    "#              'ckpt_root': CHECKPOINTS,\n",
    "#              'slowfast_root': None,\n",
    "#              'ntau': 32,\n",
    "#              'nt': 1,\n",
    "#              'subsample_layers': False})\n",
    "\n",
    "# from models import get_feature_model\n",
    "\n",
    "# model, hooks, data = get_feature_model(args)\n",
    "# model"
   ]
  },
  {
   "cell_type": "markdown",
   "id": "bulgarian-dubai",
   "metadata": {},
   "source": [
    "You can get the final 5-way output for some input X using model(X). The inputs should be in the order `(batch_size, nchannels, nt, ny, nx)`. However, what we usually care about are the values in the intermediate layer, which we can get from hooks. Here I show how to derive a tuning curve for drifting gratings from intermedate layers. The inputs should generally be scaled and centered so that the neutral value is 0 and the sd is around 1."
   ]
  },
  {
   "cell_type": "code",
   "execution_count": 4,
   "id": "incident-doctor",
   "metadata": {},
   "outputs": [
    {
     "name": "stdout",
     "output_type": "stream",
     "text": [
      "model.shape torch.Size([16, 3, 32, 112, 112]) (batch_size, C, timesteps, H, W)\n",
      "output.shape torch.Size([16, 32, 32, 28, 28])\n"
     ]
    },
    {
     "data": {
      "text/plain": [
       "odict_keys(['layer00', 'layer01', 'layer02', 'layer03', 'layer04', 'layer05', 'layer06'])"
      ]
     },
     "execution_count": 4,
     "metadata": {},
     "output_type": "execute_result"
    }
   ],
   "source": [
    "from multisys.utils.global_variables import DEVICE\n",
    "\n",
    "def create_drifting_gratings():\n",
    "    ntau = 32\n",
    "    radius = 32\n",
    "    ndirections = 16\n",
    "\n",
    "    lx, lt = 16, 16\n",
    "\n",
    "    # Create stimuli that contain all combos that are needed\n",
    "    xi, yi = np.meshgrid(np.arange(-55.5, 56.5), np.arange(-55.5, 56.5))\n",
    "    mask = xi**2 + yi**2 < radius**2\n",
    "    oi = (np.arange(ndirections) / ndirections * 2 * np.pi).reshape((-1, 1, 1, 1))\n",
    "    ti = np.arange(ntau)\n",
    "    ti = ti - ti.mean()\n",
    "\n",
    "    vals = []\n",
    "    stims = []\n",
    "\n",
    "    ri = (np.cos(oi) * xi.reshape((1, 1, xi.shape[0], xi.shape[1])) - np.sin(oi) * yi.reshape((1, 1, xi.shape[0], xi.shape[1])))\n",
    "    X = mask.reshape((1, 1, xi.shape[0], xi.shape[1])) * np.cos((ri / lx) * 2 * np.pi - ti.reshape((1, -1, 1, 1)) / lt * 2 *np.pi)\n",
    "    X = np.stack([X, X, X], axis=1) # Go from black and white to RGB\n",
    "    return X\n",
    "\n",
    "X = torch.tensor(create_drifting_gratings()).to(device=DEVICE, dtype=torch.float)\n",
    "print(\"model.shape\", X.shape, \"(batch_size, C, timesteps, H, W)\")\n",
    "model.to(device=DEVICE)\n",
    "output = model(X)\n",
    "print(\"output.shape\", output.shape)\n",
    "hooks.keys()"
   ]
  },
  {
   "cell_type": "code",
   "execution_count": null,
   "id": "silent-oregon",
   "metadata": {},
   "outputs": [
    {
     "data": {
      "text/plain": [
       "torch.Size([16, 64, 32, 56, 56])"
      ]
     },
     "execution_count": 4,
     "metadata": {},
     "output_type": "execute_result"
    }
   ],
   "source": [
    "hooks['layer01'].shape"
   ]
  },
  {
   "cell_type": "markdown",
   "id": "coated-monster",
   "metadata": {},
   "source": [
    "Show the tuning curve of the first filter of layer 1."
   ]
  },
  {
   "cell_type": "code",
   "execution_count": 5,
   "id": "strong-registration",
   "metadata": {},
   "outputs": [
    {
     "data": {
      "text/plain": [
       "Text(0, 0.5, 'response (A.U.)')"
      ]
     },
     "execution_count": 5,
     "metadata": {},
     "output_type": "execute_result"
    },
    {
     "data": {
      "image/png": "[encoded data removed]",
      "text/plain": [
       "<Figure size 640x480 with 1 Axes>"
      ]
     },
     "metadata": {},
     "output_type": "display_data"
    }
   ],
   "source": [
    "import matplotlib.pyplot as plt\n",
    "import seaborn as sns\n",
    "\n",
    "filt_num = 0\n",
    "plt.plot(np.arange(16) / 16 * 360, hooks['layer01'][:, filt_num, 16, 26, 26].detach().cpu().numpy())\n",
    "sns.despine()\n",
    "plt.xlabel('degrees')\n",
    "plt.ylabel('response (A.U.)')"
   ]
  },
  {
   "cell_type": "code",
   "execution_count": null,
   "id": "027dfca3",
   "metadata": {},
   "outputs": [],
   "source": []
  }
 ],
 "metadata": {
  "kernelspec": {
   "display_name": "Python 3",
   "language": "python",
   "name": "python3"
  },
  "language_info": {
   "codemirror_mode": {
    "name": "ipython",
    "version": 3
   },
   "file_extension": ".py",
   "mimetype": "text/x-python",
   "name": "python",
   "nbconvert_exporter": "python",
   "pygments_lexer": "ipython3",
   "version": "3.10.12"
  }
 },
 "nbformat": 4,
 "nbformat_minor": 5
}
